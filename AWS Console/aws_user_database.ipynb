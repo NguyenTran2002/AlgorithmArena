{
 "cells": [
  {
   "cell_type": "code",
   "execution_count": 17,
   "metadata": {},
   "outputs": [],
   "source": [
    "from aws_sql_helper import *\n",
    "import ast\n",
    "import json"
   ]
  },
  {
   "cell_type": "code",
   "execution_count": 2,
   "metadata": {},
   "outputs": [],
   "source": [
    "# connect to the database\n",
    "aws_host, aws_port, aws_user, aws_password, aws_database = load_aws_connection_properties()\n",
    "connection, cursor = connect_to_aws(aws_host, aws_port, aws_user, aws_password, aws_database)"
   ]
  },
  {
   "cell_type": "code",
   "execution_count": 3,
   "metadata": {},
   "outputs": [],
   "source": [
    "# # creating a table\n",
    "# table_name = 'test_inventory'\n",
    "# column_names = ['id', 'item_title', 'price']\n",
    "# column_data_types = ['INT', 'VARCHAR(255)', 'FLOAT']\n",
    "# create_table(connection, cursor, table_name, column_names, column_data_types)"
   ]
  },
  {
   "cell_type": "code",
   "execution_count": 5,
   "metadata": {},
   "outputs": [
    {
     "name": "stdout",
     "output_type": "stream",
     "text": [
      "CREATE TABLE IF NOT EXISTS dummy_historical_data (Price FLOAT, CPU TEXT, RAM INT, Storage INT, HDD_SSD TEXT)\n",
      "Table created successfully.\n"
     ]
    }
   ],
   "source": [
    "# # creating a table\n",
    "# table_name = 'dummy_historical_data'\n",
    "# column_names = ['Price', 'CPU', 'RAM', 'Storage', 'HDD_SSD']\n",
    "# columns_data_types = ['FLOAT', 'TEXTs', 'INT', 'INT', 'TEXT']\n",
    "# create_table(connection, cursor, table_name, column_names, columns_data_types)"
   ]
  },
  {
   "cell_type": "code",
   "execution_count": 3,
   "metadata": {},
   "outputs": [
    {
     "name": "stdout",
     "output_type": "stream",
     "text": [
      "CREATE TABLE IF NOT EXISTS leaderboard (username TEXT, solved_problems TEXT, number_of_solved_problems INT)\n",
      "Table created successfully.\n"
     ]
    }
   ],
   "source": [
    "# table_name = 'leaderboard'\n",
    "# column_names = ['username', 'solved_problems', 'number_of_solved_problems']\n",
    "# columns_data_types = ['TEXT', 'TEXT', 'INT']\n",
    "# create_table(connection, cursor, table_name, column_names, columns_data_types)"
   ]
  },
  {
   "cell_type": "code",
   "execution_count": 3,
   "metadata": {},
   "outputs": [
    {
     "data": {
      "text/plain": [
       "['username', 'solved_problems', 'number_of_solved_problems']"
      ]
     },
     "execution_count": 3,
     "metadata": {},
     "output_type": "execute_result"
    }
   ],
   "source": [
    "get_column_names(cursor, 'leaderboard')"
   ]
  },
  {
   "cell_type": "code",
   "execution_count": null,
   "metadata": {},
   "outputs": [],
   "source": [
    "# delete_table('example_table')"
   ]
  },
  {
   "cell_type": "code",
   "execution_count": 7,
   "metadata": {},
   "outputs": [
    {
     "name": "stdout",
     "output_type": "stream",
     "text": [
      "Entry added successfully.\n"
     ]
    }
   ],
   "source": [
    "# solved_problems = ['koko_eating_bana', 'binary_search', 'contains_duplicate']\n",
    "# serialized_array = json.dumps(solved_problems)\n",
    "\n",
    "# add_entry_to_table(\n",
    "#     connection,\n",
    "#     cursor,\n",
    "#     'leaderboard',\n",
    "#     ['geoff', serialized_array, '16']\n",
    "# )"
   ]
  },
  {
   "cell_type": "code",
   "execution_count": 9,
   "metadata": {},
   "outputs": [
    {
     "data": {
      "text/plain": [
       "['username', 'solved_problems', 'number_of_solved_problems']"
      ]
     },
     "execution_count": 9,
     "metadata": {},
     "output_type": "execute_result"
    }
   ],
   "source": [
    "get_column_names(cursor, 'leaderboard')"
   ]
  },
  {
   "cell_type": "code",
   "execution_count": 8,
   "metadata": {},
   "outputs": [
    {
     "name": "stdout",
     "output_type": "stream",
     "text": [
      "An error occurred: (1091, \"Can't DROP 'average_time'; check that column/key exists\")\n"
     ]
    }
   ],
   "source": [
    "remove_column(connection, cursor, 'leaderboard', 'average_time')"
   ]
  },
  {
   "cell_type": "code",
   "execution_count": 6,
   "metadata": {},
   "outputs": [
    {
     "data": {
      "text/plain": [
       "(('geoff', '[\"koko_eating_bana\", \"binary_search\", \"contains_duplicate\"]', 3),\n",
       " ('nnt', \"['binary_search']\", 1),\n",
       " ('christo', \"['binary_search', 'contains_duplicate']\", 2),\n",
       " ('albert', \"['binary_search', 'contains_duplicate']\", 2),\n",
       " ('funny_donut', \"['koko_eating_bananas']\", 1))"
      ]
     },
     "execution_count": 6,
     "metadata": {},
     "output_type": "execute_result"
    }
   ],
   "source": [
    "retrieve_all_rows(cursor, 'leaderboard')"
   ]
  },
  {
   "cell_type": "markdown",
   "metadata": {},
   "source": [
    "## Leaderboard Feature Example"
   ]
  },
  {
   "cell_type": "code",
   "execution_count": 25,
   "metadata": {},
   "outputs": [
    {
     "data": {
      "text/plain": [
       "\"['binary_search', 'contains_duplicate']\""
      ]
     },
     "execution_count": 25,
     "metadata": {},
     "output_type": "execute_result"
    }
   ],
   "source": [
    "solved_problems = get_column2_given_column1(\n",
    "    cursor = cursor,\n",
    "    table_name = 'leaderboard',\n",
    "    column_1 = 'username',\n",
    "    column_2 = 'solved_problems',\n",
    "    column_1_val = 'albert'\n",
    ")\n",
    "\n",
    "solved_problems"
   ]
  },
  {
   "cell_type": "code",
   "execution_count": 26,
   "metadata": {},
   "outputs": [
    {
     "data": {
      "text/plain": [
       "\"['binary_search', 'contains_duplicate', 'two_sum']\""
      ]
     },
     "execution_count": 26,
     "metadata": {},
     "output_type": "execute_result"
    }
   ],
   "source": [
    "# add 'koko_eating_bananas' to the list of solved problems\n",
    "solved_problems = solved_problems[1:-1]\n",
    "solved_problems = '[' + solved_problems + \", 'two_sum']\"\n",
    "\n",
    "solved_problems"
   ]
  },
  {
   "cell_type": "code",
   "execution_count": 27,
   "metadata": {},
   "outputs": [
    {
     "name": "stdout",
     "output_type": "stream",
     "text": [
      "Row with username value 'albert' updated successfully.\n"
     ]
    }
   ],
   "source": [
    "update_row(connection = connection,\n",
    "    cursor = cursor,\n",
    "    table_name = 'leaderboard',\n",
    "    identifier_column = 'username',\n",
    "    identifier_value = 'albert',\n",
    "    edit_column = 'solved_problems',\n",
    "    new_value = solved_problems\n",
    ")"
   ]
  },
  {
   "cell_type": "code",
   "execution_count": 29,
   "metadata": {},
   "outputs": [
    {
     "name": "stdout",
     "output_type": "stream",
     "text": [
      "Row with username value 'albert' updated successfully.\n"
     ]
    }
   ],
   "source": [
    "update_row(connection = connection,\n",
    "    cursor = cursor,\n",
    "    table_name = 'leaderboard',\n",
    "    identifier_column = 'username',\n",
    "    identifier_value = 'albert',\n",
    "    edit_column = 'number_of_solved_problems',\n",
    "    new_value = 3\n",
    ")"
   ]
  },
  {
   "cell_type": "code",
   "execution_count": 30,
   "metadata": {},
   "outputs": [
    {
     "data": {
      "text/plain": [
       "(('geoff', 'null', 4),\n",
       " ('nnt', \"['binary_search']\", 1),\n",
       " ('christo', \"['binary_search', 'contains_duplicate']\", 2),\n",
       " ('albert', \"['binary_search', 'contains_duplicate', 'two_sum']\", 3),\n",
       " ('funny_donut', \"['koko_eating_bananas']\", 1))"
      ]
     },
     "execution_count": 30,
     "metadata": {},
     "output_type": "execute_result"
    }
   ],
   "source": [
    "retrieve_all_rows(cursor, 'leaderboard')"
   ]
  }
 ],
 "metadata": {
  "kernelspec": {
   "display_name": "Python 3",
   "language": "python",
   "name": "python3"
  },
  "language_info": {
   "codemirror_mode": {
    "name": "ipython",
    "version": 3
   },
   "file_extension": ".py",
   "mimetype": "text/x-python",
   "name": "python",
   "nbconvert_exporter": "python",
   "pygments_lexer": "ipython3",
   "version": "3.11.4"
  }
 },
 "nbformat": 4,
 "nbformat_minor": 2
}
