{
 "cells": [
  {
   "cell_type": "code",
   "execution_count": 1,
   "metadata": {},
   "outputs": [],
   "source": [
    "from aws_sql_helper import *\n",
    "import ast\n",
    "import json"
   ]
  },
  {
   "cell_type": "code",
   "execution_count": 2,
   "metadata": {},
   "outputs": [
    {
     "name": "stdout",
     "output_type": "stream",
     "text": [
      "FROM CONNECT_TO_AWS\n",
      "HOST: algorithm-arena-data.cwyl09slg4ph.us-east-2.rds.amazonaws.com\n",
      "PORT: 3306\n",
      "USER: aa_admin_nnt\n",
      "PASSWORD: WACp4cGqb9b33Qx\n",
      "DATABASE NAME: algorithm_arena\n",
      "DATABASE CONNECTED TO AWS\n"
     ]
    }
   ],
   "source": [
    "try:\n",
    "\n",
    "    aws_credentials_object = create_AWS_credentials_object()\n",
    "\n",
    "    try:\n",
    "        connection, cursor = connect_to_aws(aws_credentials_object)\n",
    "        print(\"DATABASE CONNECTED TO AWS\")\n",
    "        connection_successful = True\n",
    "        connection.close()\n",
    "\n",
    "    except Exception as e:\n",
    "        print(\"DATABASE CANNOT CONNECT TO AWS\")\n",
    "        print(\"ENCOUNTERED THE FOLLOWING EXCEPTION:\\n\", e)\n",
    "\n",
    "except Exception as e:\n",
    "    print(\"DATABASE CANNOT CREATE CREDENTIALS OBJECT.\\nCheck if the relevant .env file exist.\")\n",
    "    print(\"ENCOUNTERED THE FOLLOWING EXCEPTION:\\n\", e)"
   ]
  },
  {
   "cell_type": "code",
   "execution_count": 3,
   "metadata": {},
   "outputs": [
    {
     "name": "stdout",
     "output_type": "stream",
     "text": [
      "FROM CONNECT_TO_AWS\n",
      "HOST: algorithm-arena-data.cwyl09slg4ph.us-east-2.rds.amazonaws.com\n",
      "PORT: 3306\n",
      "USER: aa_admin_nnt\n",
      "PASSWORD: WACp4cGqb9b33Qx\n",
      "DATABASE NAME: algorithm_arena\n"
     ]
    },
    {
     "data": {
      "text/plain": [
       "['leaderboard', 'problems', 'user_logins']"
      ]
     },
     "execution_count": 3,
     "metadata": {},
     "output_type": "execute_result"
    }
   ],
   "source": [
    "get_tables_names(aws_credentials_object)"
   ]
  },
  {
   "cell_type": "code",
   "execution_count": 4,
   "metadata": {},
   "outputs": [
    {
     "name": "stdout",
     "output_type": "stream",
     "text": [
      "FROM CONNECT_TO_AWS\n",
      "HOST: algorithm-arena-data.cwyl09slg4ph.us-east-2.rds.amazonaws.com\n",
      "PORT: 3306\n",
      "USER: aa_admin_nnt\n",
      "PASSWORD: WACp4cGqb9b33Qx\n",
      "DATABASE NAME: algorithm_arena\n"
     ]
    },
    {
     "data": {
      "text/plain": [
       "['username', 'solved_problems', 'number_of_solved_problems']"
      ]
     },
     "execution_count": 4,
     "metadata": {},
     "output_type": "execute_result"
    }
   ],
   "source": [
    "get_column_names(aws_credentials_object, \"leaderboard\")"
   ]
  },
  {
   "cell_type": "code",
   "execution_count": 5,
   "metadata": {},
   "outputs": [],
   "source": [
    "leaderboard = get_table_sorted_by(\n",
    "    cursor = cursor,\n",
    "    table_name = \"leaderboard\",\n",
    "    sort_column = \"number_of_solved_problems\")"
   ]
  },
  {
   "cell_type": "code",
   "execution_count": 12,
   "metadata": {},
   "outputs": [
    {
     "data": {
      "text/plain": [
       "(('albert', \"['binary_search', 'contains_duplicate', 'two_sum']\", 3),\n",
       " ('geoff',\n",
       "  \"['binary_search', 'contains_duplicate', 'koko_eating_bananas']\",\n",
       "  3))"
      ]
     },
     "execution_count": 12,
     "metadata": {},
     "output_type": "execute_result"
    }
   ],
   "source": [
    "leaderboard[:2]"
   ]
  },
  {
   "cell_type": "code",
   "execution_count": 14,
   "metadata": {},
   "outputs": [
    {
     "data": {
      "text/plain": [
       "3"
      ]
     },
     "execution_count": 14,
     "metadata": {},
     "output_type": "execute_result"
    }
   ],
   "source": [
    "leaderboard[0][2]"
   ]
  },
  {
   "cell_type": "code",
   "execution_count": 3,
   "metadata": {},
   "outputs": [
    {
     "name": "stdout",
     "output_type": "stream",
     "text": [
      "CREATE TABLE IF NOT EXISTS problems (problem TEXT)\n",
      "Table created successfully.\n"
     ]
    }
   ],
   "source": [
    "# table_name = 'problems'\n",
    "# column_names = ['problem']\n",
    "# columns_data_types = ['TEXT']\n",
    "# create_table(connection, cursor, table_name, column_names, columns_data_types)"
   ]
  },
  {
   "cell_type": "code",
   "execution_count": 6,
   "metadata": {},
   "outputs": [
    {
     "data": {
      "text/plain": [
       "['username', 'password']"
      ]
     },
     "execution_count": 6,
     "metadata": {},
     "output_type": "execute_result"
    }
   ],
   "source": [
    "get_column_names(cursor, 'user_logins')"
   ]
  },
  {
   "cell_type": "code",
   "execution_count": 6,
   "metadata": {},
   "outputs": [
    {
     "data": {
      "text/plain": [
       "'varchar(255)'"
      ]
     },
     "execution_count": 6,
     "metadata": {},
     "output_type": "execute_result"
    }
   ],
   "source": [
    "get_a_column_data_type(cursor, 'user_logins', 'username')"
   ]
  },
  {
   "cell_type": "code",
   "execution_count": 7,
   "metadata": {},
   "outputs": [
    {
     "name": "stdout",
     "output_type": "stream",
     "text": [
      "Query: ALTER TABLE `user_logins` CHANGE `username` `user_name` varchar(255)\n",
      "Column 'username' renamed to 'user_name' successfully in the table 'user_logins'.\n"
     ]
    }
   ],
   "source": [
    "rename_column(connection, cursor, 'user_logins', 'username', 'user_name')"
   ]
  },
  {
   "cell_type": "code",
   "execution_count": 8,
   "metadata": {},
   "outputs": [
    {
     "data": {
      "text/plain": [
       "['user_name', 'password']"
      ]
     },
     "execution_count": 8,
     "metadata": {},
     "output_type": "execute_result"
    }
   ],
   "source": [
    "get_column_names(cursor, 'user_logins')"
   ]
  },
  {
   "cell_type": "code",
   "execution_count": 11,
   "metadata": {},
   "outputs": [],
   "source": [
    "# delete_table('example_table')"
   ]
  },
  {
   "cell_type": "code",
   "execution_count": 12,
   "metadata": {},
   "outputs": [],
   "source": [
    "# solved_problems = ['koko_eating_bana', 'binary_search', 'contains_duplicate']\n",
    "# serialized_array = json.dumps(solved_problems)\n",
    "\n",
    "# add_entry_to_table(\n",
    "#     connection,\n",
    "#     cursor,\n",
    "#     'leaderboard',\n",
    "#     ['geoff', serialized_array, '16']\n",
    "# )"
   ]
  },
  {
   "cell_type": "code",
   "execution_count": 13,
   "metadata": {},
   "outputs": [
    {
     "data": {
      "text/plain": [
       "['username', 'solved_problems', 'number_of_solved_problems']"
      ]
     },
     "execution_count": 13,
     "metadata": {},
     "output_type": "execute_result"
    }
   ],
   "source": [
    "get_column_names(cursor, 'leaderboard')"
   ]
  },
  {
   "cell_type": "code",
   "execution_count": 14,
   "metadata": {},
   "outputs": [],
   "source": [
    "remove_column(connection, cursor, 'leaderboard', 'average_time')"
   ]
  },
  {
   "cell_type": "code",
   "execution_count": 3,
   "metadata": {},
   "outputs": [
    {
     "data": {
      "text/plain": [
       "(('binary_search',),\n",
       " ('contains_duplicate',),\n",
       " ('koko_eating_bananas',),\n",
       " ('longest_turbulent_subarray',),\n",
       " ('maximum_subarray',),\n",
       " ('two_sum',),\n",
       " ('valid_palindrome_2',),\n",
       " ('valid_palindrome_3',),\n",
       " ('valid_palindrome',),\n",
       " ('valid_parentheses',))"
      ]
     },
     "execution_count": 3,
     "metadata": {},
     "output_type": "execute_result"
    }
   ],
   "source": [
    "retrieve_all_rows(cursor, 'problems')"
   ]
  },
  {
   "cell_type": "code",
   "execution_count": 4,
   "metadata": {},
   "outputs": [
    {
     "data": {
      "text/plain": [
       "['binary_search',\n",
       " 'contains_duplicate',\n",
       " 'koko_eating_bananas',\n",
       " 'longest_turbulent_subarray',\n",
       " 'maximum_subarray',\n",
       " 'two_sum',\n",
       " 'valid_palindrome_2',\n",
       " 'valid_palindrome_3',\n",
       " 'valid_palindrome',\n",
       " 'valid_parentheses']"
      ]
     },
     "execution_count": 4,
     "metadata": {},
     "output_type": "execute_result"
    }
   ],
   "source": [
    "retrieve_all_rows_of_column(cursor, 'problems', 'problem')"
   ]
  },
  {
   "cell_type": "code",
   "execution_count": 5,
   "metadata": {},
   "outputs": [
    {
     "data": {
      "text/plain": [
       "10"
      ]
     },
     "execution_count": 5,
     "metadata": {},
     "output_type": "execute_result"
    }
   ],
   "source": [
    "len(retrieve_all_rows_of_column(cursor, 'problems', 'problem'))"
   ]
  },
  {
   "cell_type": "markdown",
   "metadata": {},
   "source": [
    "## Leaderboard Feature Example"
   ]
  },
  {
   "cell_type": "code",
   "execution_count": null,
   "metadata": {},
   "outputs": [
    {
     "data": {
      "text/plain": [
       "\"['binary_search', 'contains_duplicate']\""
      ]
     },
     "execution_count": 25,
     "metadata": {},
     "output_type": "execute_result"
    }
   ],
   "source": [
    "solved_problems = get_column2_given_column1(\n",
    "    cursor = cursor,\n",
    "    table_name = 'leaderboard',\n",
    "    column_1 = 'username',\n",
    "    column_2 = 'solved_problems',\n",
    "    column_1_val = 'albert'\n",
    ")\n",
    "\n",
    "solved_problems"
   ]
  },
  {
   "cell_type": "code",
   "execution_count": null,
   "metadata": {},
   "outputs": [
    {
     "data": {
      "text/plain": [
       "\"['binary_search', 'contains_duplicate', 'two_sum']\""
      ]
     },
     "execution_count": 26,
     "metadata": {},
     "output_type": "execute_result"
    }
   ],
   "source": [
    "# add 'koko_eating_bananas' to the list of solved problems\n",
    "solved_problems = solved_problems[1:-1]\n",
    "solved_problems = '[' + solved_problems + \", 'two_sum']\"\n",
    "\n",
    "solved_problems"
   ]
  },
  {
   "cell_type": "code",
   "execution_count": null,
   "metadata": {},
   "outputs": [
    {
     "name": "stdout",
     "output_type": "stream",
     "text": [
      "Row with username value 'albert' updated successfully.\n"
     ]
    }
   ],
   "source": [
    "update_row(connection = connection,\n",
    "    cursor = cursor,\n",
    "    table_name = 'leaderboard',\n",
    "    identifier_column = 'username',\n",
    "    identifier_value = 'albert',\n",
    "    edit_column = 'solved_problems',\n",
    "    new_value = solved_problems\n",
    ")"
   ]
  },
  {
   "cell_type": "code",
   "execution_count": null,
   "metadata": {},
   "outputs": [
    {
     "name": "stdout",
     "output_type": "stream",
     "text": [
      "Row with username value 'albert' updated successfully.\n"
     ]
    }
   ],
   "source": [
    "update_row(connection = connection,\n",
    "    cursor = cursor,\n",
    "    table_name = 'leaderboard',\n",
    "    identifier_column = 'username',\n",
    "    identifier_value = 'albert',\n",
    "    edit_column = 'number_of_solved_problems',\n",
    "    new_value = 3\n",
    ")"
   ]
  },
  {
   "cell_type": "code",
   "execution_count": null,
   "metadata": {},
   "outputs": [
    {
     "data": {
      "text/plain": [
       "(('geoff', 'null', 4),\n",
       " ('nnt', \"['binary_search']\", 1),\n",
       " ('christo', \"['binary_search', 'contains_duplicate']\", 2),\n",
       " ('albert', \"['binary_search', 'contains_duplicate', 'two_sum']\", 3),\n",
       " ('funny_donut', \"['koko_eating_bananas']\", 1))"
      ]
     },
     "execution_count": 30,
     "metadata": {},
     "output_type": "execute_result"
    }
   ],
   "source": [
    "retrieve_all_rows(cursor, 'leaderboard')"
   ]
  }
 ],
 "metadata": {
  "kernelspec": {
   "display_name": "Python 3",
   "language": "python",
   "name": "python3"
  },
  "language_info": {
   "codemirror_mode": {
    "name": "ipython",
    "version": 3
   },
   "file_extension": ".py",
   "mimetype": "text/x-python",
   "name": "python",
   "nbconvert_exporter": "python",
   "pygments_lexer": "ipython3",
   "version": "3.11.4"
  }
 },
 "nbformat": 4,
 "nbformat_minor": 2
}
