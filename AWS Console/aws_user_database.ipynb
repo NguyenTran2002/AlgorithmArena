{
 "cells": [
  {
   "cell_type": "code",
   "execution_count": 1,
   "metadata": {},
   "outputs": [],
   "source": [
    "from aws_sql_helper import *"
   ]
  },
  {
   "cell_type": "code",
   "execution_count": 2,
   "metadata": {},
   "outputs": [],
   "source": [
    "# connect to the database\n",
    "aws_host, aws_port, aws_user, aws_password, aws_database = load_aws_connection_properties()\n",
    "connection, cursor = connect_to_aws(aws_host, aws_port, aws_user, aws_password, aws_database)"
   ]
  },
  {
   "cell_type": "code",
   "execution_count": 3,
   "metadata": {},
   "outputs": [],
   "source": [
    "# # creating a table\n",
    "# table_name = 'test_inventory'\n",
    "# column_names = ['id', 'item_title', 'price']\n",
    "# column_data_types = ['INT', 'VARCHAR(255)', 'FLOAT']\n",
    "# create_table(connection, cursor, table_name, column_names, column_data_types)"
   ]
  },
  {
   "cell_type": "code",
   "execution_count": 5,
   "metadata": {},
   "outputs": [
    {
     "name": "stdout",
     "output_type": "stream",
     "text": [
      "CREATE TABLE IF NOT EXISTS dummy_historical_data (Price FLOAT, CPU TEXT, RAM INT, Storage INT, HDD_SSD TEXT)\n",
      "Table created successfully.\n"
     ]
    }
   ],
   "source": [
    "# # creating a table\n",
    "# table_name = 'dummy_historical_data'\n",
    "# column_names = ['Price', 'CPU', 'RAM', 'Storage', 'HDD_SSD']\n",
    "# columns_data_types = ['FLOAT', 'TEXTs', 'INT', 'INT', 'TEXT']\n",
    "# create_table(connection, cursor, table_name, column_names, columns_data_types)"
   ]
  },
  {
   "cell_type": "code",
   "execution_count": 6,
   "metadata": {},
   "outputs": [
    {
     "data": {
      "text/plain": [
       "['Price', 'CPU', 'RAM', 'Storage', 'HDD_SSD']"
      ]
     },
     "execution_count": 6,
     "metadata": {},
     "output_type": "execute_result"
    }
   ],
   "source": [
    "get_column_names(cursor, 'dummy_historical_data')"
   ]
  },
  {
   "cell_type": "code",
   "execution_count": null,
   "metadata": {},
   "outputs": [],
   "source": [
    "# delete_table('example_table')"
   ]
  },
  {
   "cell_type": "code",
   "execution_count": 9,
   "metadata": {},
   "outputs": [
    {
     "name": "stdout",
     "output_type": "stream",
     "text": [
      "Entry added successfully.\n"
     ]
    }
   ],
   "source": [
    "# add_entry_to_table(\n",
    "#     connection,\n",
    "#     cursor,\n",
    "#     'dummy_historical_data',\n",
    "#     ['1700', 'i7', '16', '1000', 'SSD']\n",
    "# )"
   ]
  },
  {
   "cell_type": "code",
   "execution_count": 10,
   "metadata": {},
   "outputs": [
    {
     "name": "stdout",
     "output_type": "stream",
     "text": [
      "(1000.0, 'i5', 8, 256, 'SSD')\n",
      "(1700.0, 'i7', 16, 1000, 'SSD')\n"
     ]
    },
    {
     "data": {
      "text/plain": [
       "((1000.0, 'i5', 8, 256, 'SSD'), (1700.0, 'i7', 16, 1000, 'SSD'))"
      ]
     },
     "execution_count": 10,
     "metadata": {},
     "output_type": "execute_result"
    }
   ],
   "source": [
    "retrieve_all_rows(cursor, 'dummy_historical_data')"
   ]
  }
 ],
 "metadata": {
  "kernelspec": {
   "display_name": "Python 3",
   "language": "python",
   "name": "python3"
  },
  "language_info": {
   "codemirror_mode": {
    "name": "ipython",
    "version": 3
   },
   "file_extension": ".py",
   "mimetype": "text/x-python",
   "name": "python",
   "nbconvert_exporter": "python",
   "pygments_lexer": "ipython3",
   "version": "3.11.4"
  }
 },
 "nbformat": 4,
 "nbformat_minor": 2
}
