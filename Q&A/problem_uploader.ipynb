{
 "cells": [
  {
   "cell_type": "code",
   "execution_count": 10,
   "metadata": {},
   "outputs": [],
   "source": [
    "from pymongo.mongo_client import MongoClient\n",
    "from pymongo.server_api import ServerApi\n",
    "import os\n",
    "import json"
   ]
  },
  {
   "cell_type": "code",
   "execution_count": 11,
   "metadata": {},
   "outputs": [],
   "source": [
    "from helper import *"
   ]
  },
  {
   "cell_type": "code",
   "execution_count": 12,
   "metadata": {},
   "outputs": [
    {
     "name": "stdout",
     "output_type": "stream",
     "text": [
      "Pinged your deployment. You successfully connected to MongoDB!\n"
     ]
    }
   ],
   "source": [
    "# connect to the mongo client\n",
    "client = connect_to_mongo()\n",
    "\n",
    "# Send a ping to confirm a successful connection\n",
    "try:\n",
    "    client.admin.command('ping')\n",
    "    print(\"Pinged your deployment. You successfully connected to MongoDB!\")\n",
    "except Exception as e:\n",
    "    print(e)"
   ]
  },
  {
   "cell_type": "code",
   "execution_count": 13,
   "metadata": {},
   "outputs": [],
   "source": [
    "# get the collection storing the problems\n",
    "collection = get_collection(client = client,\n",
    "    database_name = 'qa-repo',\n",
    "    collection_name = 'qa')\n",
    "\n",
    "# collection storing key : value\n",
    "# key is 'problem_name'\n",
    "# the value is the json containing all test cases"
   ]
  },
  {
   "cell_type": "code",
   "execution_count": 16,
   "metadata": {},
   "outputs": [
    {
     "name": "stdout",
     "output_type": "stream",
     "text": [
      "{'binary_search', 'contains_duplicate', 'koko_eating_bananas'}\n"
     ]
    }
   ],
   "source": [
    "# get all problems' names from the collection\n",
    "problems = set()\n",
    "for problem in collection.find():\n",
    "    problems.add(problem['problem_name'])\n",
    "\n",
    "print(problems)"
   ]
  },
  {
   "cell_type": "markdown",
   "metadata": {},
   "source": []
  },
  {
   "cell_type": "code",
   "execution_count": 15,
   "metadata": {},
   "outputs": [
    {
     "name": "stdout",
     "output_type": "stream",
     "text": [
      "binary_search.json\n",
      "Uploaded file: /Users/nnt/Documents/Developer/Advanced Software Design/AlgorithmArena/Q&A/test_cases_and_answers/binary_search.json, Object ID: 6531e2896316a097f17e66aa\n",
      "contains_duplicate.json\n",
      "Uploaded file: /Users/nnt/Documents/Developer/Advanced Software Design/AlgorithmArena/Q&A/test_cases_and_answers/contains_duplicate.json, Object ID: 6531e28a6316a097f17e66ab\n",
      "koko_eating_bananas.json\n",
      "Uploaded file: /Users/nnt/Documents/Developer/Advanced Software Design/AlgorithmArena/Q&A/test_cases_and_answers/koko_eating_bananas.json, Object ID: 6531e28a6316a097f17e66ac\n"
     ]
    }
   ],
   "source": [
    "# Get the current directory where the script is located\n",
    "current_directory = os.getcwd()\n",
    "\n",
    "# Define the database directory (change this to your actual directory name)\n",
    "database_directory = \"test_cases_and_answers\"\n",
    "\n",
    "# Construct the full path to the database directory\n",
    "database_path = os.path.join(current_directory, database_directory)\n",
    "\n",
    "# Check if the directory exists\n",
    "if os.path.exists(database_path) and os.path.isdir(database_path):\n",
    "\n",
    "    # List all files in the directory\n",
    "    files = os.listdir(database_path)\n",
    "    \n",
    "    # Print the list of files\n",
    "    for file_name in files:\n",
    "\n",
    "        file_path = os.path.join(database_path, file_name)\n",
    "        print(file_name)\n",
    "\n",
    "        problem_name = file_name.replace('.json', '')\n",
    "\n",
    "        if os.path.isfile(file_path):\n",
    "\n",
    "            if problem_name not in problems:\n",
    "\n",
    "                try:\n",
    "\n",
    "                    with open(file_path, \"r\") as file:\n",
    "                        \n",
    "                        data = json.load(file)\n",
    "                        data['problem_name'] = problem_name\n",
    "                        inserted_object = collection.insert_one(data)\n",
    "                        print(f\"Uploaded file: {file_path}, Object ID: {inserted_object.inserted_id}\")\n",
    "\n",
    "                except Exception as e:\n",
    "                    print(f\"Error uploading file {file_path}: {str(e)}\")\n",
    "\n",
    "else:\n",
    "    print(f\"Database directory '{database_path}' does not exist.\")"
   ]
  }
 ],
 "metadata": {
  "interpreter": {
   "hash": "bd385fe162c5ca0c84973b7dd5c518456272446b2b64e67c2a69f949ca7a1754"
  },
  "kernelspec": {
   "display_name": "Python 3.10.12 64-bit",
   "language": "python",
   "name": "python3"
  },
  "language_info": {
   "codemirror_mode": {
    "name": "ipython",
    "version": 3
   },
   "file_extension": ".py",
   "mimetype": "text/x-python",
   "name": "python",
   "nbconvert_exporter": "python",
   "pygments_lexer": "ipython3",
   "version": "3.11.4"
  },
  "orig_nbformat": 4
 },
 "nbformat": 4,
 "nbformat_minor": 2
}
