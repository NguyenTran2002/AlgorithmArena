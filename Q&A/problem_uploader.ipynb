{
 "cells": [
  {
   "cell_type": "code",
   "execution_count": 1,
   "metadata": {},
   "outputs": [],
   "source": [
    "from pymongo.mongo_client import MongoClient\n",
    "from pymongo.server_api import ServerApi\n",
    "import os\n",
    "import json"
   ]
  },
  {
   "cell_type": "code",
   "execution_count": 2,
   "metadata": {},
   "outputs": [],
   "source": [
    "from helper import *"
   ]
  },
  {
   "cell_type": "code",
   "execution_count": 4,
   "metadata": {},
   "outputs": [
    {
     "name": "stdout",
     "output_type": "stream",
     "text": [
      "Pinged your deployment. You successfully connected to MongoDB!\n"
     ]
    }
   ],
   "source": [
    "# connect to the mongo client\n",
    "client = connect_to_mongo()\n",
    "\n",
    "# Send a ping to confirm a successful connection\n",
    "try:\n",
    "    client.admin.command('ping')\n",
    "    print(\"Pinged your deployment. You successfully connected to MongoDB!\")\n",
    "except Exception as e:\n",
    "    print(e)"
   ]
  },
  {
   "cell_type": "code",
   "execution_count": 5,
   "metadata": {},
   "outputs": [],
   "source": [
    "# get the collection storing the problems\n",
    "collection = get_collection(client = client,\n",
    "    database_name = 'qa-repo',\n",
    "    collection_name = 'qa')"
   ]
  },
  {
   "cell_type": "code",
   "execution_count": 7,
   "metadata": {},
   "outputs": [
    {
     "name": "stdout",
     "output_type": "stream",
     "text": [
      "['binary_search', 'koko_eating_bananas']\n"
     ]
    }
   ],
   "source": [
    "# get all problems' names from the collection\n",
    "problems = []\n",
    "for problem in collection.find():\n",
    "    problems.append(problem['problem_name'])\n",
    "\n",
    "print(problems)"
   ]
  },
  {
   "cell_type": "code",
   "execution_count": null,
   "metadata": {},
   "outputs": [],
   "source": [
    "# binary search functin\n",
    "def binary_search(in_array, target):\n",
    "\n",
    "    # Initialize left and right pointers\n",
    "    left = 0\n",
    "    right = len(in_array) - 1\n",
    "\n",
    "    # Binary search\n",
    "    while left <= right:\n",
    "        mid = (left + right) // 2\n",
    "        if in_array[mid] == target:\n",
    "            return mid\n",
    "        elif in_array[mid] < target:\n",
    "            left = mid + 1\n",
    "        else:\n",
    "            right = mid - 1\n",
    "\n",
    "    # Return -1 if the element is not found\n",
    "    return -1"
   ]
  },
  {
   "cell_type": "markdown",
   "metadata": {},
   "source": []
  },
  {
   "cell_type": "code",
   "execution_count": null,
   "metadata": {},
   "outputs": [],
   "source": [
    "# Get the current directory where the script is located\n",
    "current_directory = os.getcwd()\n",
    "\n",
    "# Define the database directory (change this to your actual directory name)\n",
    "database_directory = \"database\"\n",
    "\n",
    "# Construct the full path to the database directory\n",
    "database_path = os.path.join(current_directory, database_directory)\n",
    "\n",
    "# Check if the directory exists\n",
    "if os.path.exists(database_path) and os.path.isdir(database_path):\n",
    "    # List all files in the directory\n",
    "    files = os.listdir(database_path)\n",
    "    \n",
    "    # Print the list of files\n",
    "    for file_name in files:\n",
    "\n",
    "        file_path = os.path.join(database_path, file_name)\n",
    "        print(file_name)\n",
    "        if os.path.isfile(file_path):\n",
    "                try:\n",
    "                    with open(file_path, \"r\") as file:\n",
    "                        data = json.load(file)\n",
    "                        data['problem_name'] = file_name.replace('.json', '')\n",
    "                        inserted_object = collection.insert_one(data)\n",
    "                        print(f\"Uploaded file: {file_path}, Object ID: {inserted_object.inserted_id}\")\n",
    "                except Exception as e:\n",
    "                    print(f\"Error uploading file {file_path}: {str(e)}\")\n",
    "\n",
    "else:\n",
    "    print(f\"Database directory '{database_path}' does not exist.\")\n"
   ]
  }
 ],
 "metadata": {
  "interpreter": {
   "hash": "bd385fe162c5ca0c84973b7dd5c518456272446b2b64e67c2a69f949ca7a1754"
  },
  "kernelspec": {
   "display_name": "Python 3.10.12 64-bit",
   "language": "python",
   "name": "python3"
  },
  "language_info": {
   "codemirror_mode": {
    "name": "ipython",
    "version": 3
   },
   "file_extension": ".py",
   "mimetype": "text/x-python",
   "name": "python",
   "nbconvert_exporter": "python",
   "pygments_lexer": "ipython3",
   "version": "3.11.4"
  },
  "orig_nbformat": 4
 },
 "nbformat": 4,
 "nbformat_minor": 2
}
