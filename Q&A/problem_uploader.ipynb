{
 "cells": [
  {
   "cell_type": "markdown",
   "metadata": {},
   "source": [
    "# Set Up"
   ]
  },
  {
   "cell_type": "code",
   "execution_count": 1,
   "metadata": {},
   "outputs": [],
   "source": [
    "from pymongo.mongo_client import MongoClient\n",
    "from pymongo.server_api import ServerApi\n",
    "from aws_sql_helper import *\n",
    "import os\n",
    "import json"
   ]
  },
  {
   "cell_type": "code",
   "execution_count": 2,
   "metadata": {},
   "outputs": [],
   "source": [
    "from helper import *"
   ]
  },
  {
   "cell_type": "code",
   "execution_count": 3,
   "metadata": {},
   "outputs": [
    {
     "name": "stdout",
     "output_type": "stream",
     "text": [
      "Pinged your deployment. You successfully connected to MongoDB!\n"
     ]
    }
   ],
   "source": [
    "# connect to the mongo client\n",
    "client = connect_to_mongo()\n",
    "\n",
    "# Send a ping to confirm a successful connection\n",
    "try:\n",
    "    client.admin.command('ping')\n",
    "    print(\"Pinged your deployment. You successfully connected to MongoDB!\")\n",
    "except Exception as e:\n",
    "    print(e)"
   ]
  },
  {
   "cell_type": "code",
   "execution_count": 4,
   "metadata": {},
   "outputs": [],
   "source": [
    "# get the collection storing the problems\n",
    "collection = get_collection(client = client,\n",
    "    database_name = 'qa-repo',\n",
    "    collection_name = 'qa')\n",
    "\n",
    "# collection storing key : value\n",
    "# key is 'problem_name'\n",
    "# the value is the json containing all test cases"
   ]
  },
  {
   "cell_type": "code",
   "execution_count": 7,
   "metadata": {},
   "outputs": [
    {
     "name": "stdout",
     "output_type": "stream",
     "text": [
      "{'valid_palindrome_3', 'maximum_subarray', 'valid_palindrome', 'koko_eating_bananas', 'valid_palindrome_2', 'binary_search', 'contains_duplicate', 'longest_turbulent_subarray', 'two_sum', 'valid_parentheses'}\n"
     ]
    }
   ],
   "source": [
    "# get all problems' names from the collection\n",
    "problems = set()\n",
    "for problem in collection.find():\n",
    "    problems.add(problem['problem_name'])\n",
    "\n",
    "print(problems)"
   ]
  },
  {
   "cell_type": "code",
   "execution_count": null,
   "metadata": {},
   "outputs": [],
   "source": [
    "aws_host, aws_port, aws_user, aws_password, aws_database = load_aws_connection_properties()\n",
    "aws_connection, aws_cursor = connect_to_aws(aws_host, aws_port, aws_user, aws_password, aws_database)"
   ]
  },
  {
   "cell_type": "markdown",
   "metadata": {},
   "source": [
    "### Set Difficulty - MUST DO\n",
    "Caution, if multiple problems are being uploaded, this code will set ALL of them to the same difficulty set below."
   ]
  },
  {
   "cell_type": "code",
   "execution_count": null,
   "metadata": {},
   "outputs": [],
   "source": [
    "difficulty = "
   ]
  },
  {
   "cell_type": "markdown",
   "metadata": {},
   "source": [
    "# Upload Problem to Problem List and Test Cases"
   ]
  },
  {
   "cell_type": "markdown",
   "metadata": {},
   "source": []
  },
  {
   "cell_type": "code",
   "execution_count": 6,
   "metadata": {},
   "outputs": [
    {
     "name": "stdout",
     "output_type": "stream",
     "text": [
      "valid_parentheses.json\n",
      "Uploaded file: /Users/nnt/Documents/Developer/Advanced Software Design/AlgorithmArena/Q&A/test_cases_and_answers/valid_parentheses.json, Object ID: 65473db109e320bc340ea7aa\n",
      "maximum_subarray.json\n",
      "Uploaded file: /Users/nnt/Documents/Developer/Advanced Software Design/AlgorithmArena/Q&A/test_cases_and_answers/maximum_subarray.json, Object ID: 65473db109e320bc340ea7ab\n",
      "two_sum.json\n",
      "Uploaded file: /Users/nnt/Documents/Developer/Advanced Software Design/AlgorithmArena/Q&A/test_cases_and_answers/two_sum.json, Object ID: 65473db209e320bc340ea7ac\n",
      "binary_search.json\n",
      "valid_palindrome_3.json\n",
      "Uploaded file: /Users/nnt/Documents/Developer/Advanced Software Design/AlgorithmArena/Q&A/test_cases_and_answers/valid_palindrome_3.json, Object ID: 65473db209e320bc340ea7ad\n",
      "valid_palindrome_2.json\n",
      "Uploaded file: /Users/nnt/Documents/Developer/Advanced Software Design/AlgorithmArena/Q&A/test_cases_and_answers/valid_palindrome_2.json, Object ID: 65473db209e320bc340ea7ae\n",
      "longest_turbulent_subarray.json\n",
      "Uploaded file: /Users/nnt/Documents/Developer/Advanced Software Design/AlgorithmArena/Q&A/test_cases_and_answers/longest_turbulent_subarray.json, Object ID: 65473db209e320bc340ea7af\n",
      "contains_duplicate.json\n",
      "koko_eating_bananas.json\n",
      "valid_palindrome.json\n",
      "Uploaded file: /Users/nnt/Documents/Developer/Advanced Software Design/AlgorithmArena/Q&A/test_cases_and_answers/valid_palindrome.json, Object ID: 65473db309e320bc340ea7b0\n"
     ]
    }
   ],
   "source": [
    "# Get the current directory where the script is located\n",
    "current_directory = os.getcwd()\n",
    "\n",
    "# Define the database directory (change this to your actual directory name)\n",
    "database_directory = \"test_cases_and_answers\"\n",
    "\n",
    "# Construct the full path to the database directory\n",
    "database_path = os.path.join(current_directory, database_directory)\n",
    "\n",
    "# Check if the directory exists\n",
    "if os.path.exists(database_path) and os.path.isdir(database_path):\n",
    "\n",
    "    # List all files in the directory\n",
    "    files = os.listdir(database_path)\n",
    "    \n",
    "    # Print the list of files\n",
    "    for file_name in files:\n",
    "\n",
    "        file_path = os.path.join(database_path, file_name)\n",
    "        print(file_name)\n",
    "\n",
    "        problem_name = file_name.replace('.json', '')\n",
    "\n",
    "        if os.path.isfile(file_path):\n",
    "\n",
    "            if problem_name not in problems: # if the problem is NOT already in the database\n",
    "\n",
    "                try:\n",
    "\n",
    "                    with open(file_path, \"r\") as file:\n",
    "                        \n",
    "                        data = json.load(file)\n",
    "                        data['problem_name'] = problem_name\n",
    "                        inserted_object = collection.insert_one(data)\n",
    "                        print(f\"Uploaded file: {file_path}, Object ID: {inserted_object.inserted_id}\")\n",
    "\n",
    "                    add_entry_to_table(aws_connection, aws_cursor, problem_name, difficulty)\n",
    "\n",
    "                except Exception as e:\n",
    "                    print(f\"Error uploading file {file_path}: {str(e)}\")\n",
    "\n",
    "else:\n",
    "    print(f\"Database directory '{database_path}' does not exist.\")"
   ]
  },
  {
   "cell_type": "markdown",
   "metadata": {},
   "source": [
    "# Upload Problem Markdown"
   ]
  },
  {
   "cell_type": "code",
   "execution_count": 9,
   "metadata": {},
   "outputs": [],
   "source": [
    "def read_markdown_files_and_upload(folder_path, collection_object):\n",
    "\n",
    "    for file_name in os.listdir(folder_path):\n",
    "        if file_name.endswith('.md'):\n",
    "            with open(os.path.join(folder_path, file_name), 'r') as file:\n",
    "                markdown_content = file.read()\n",
    "\n",
    "            # Create the JSON object\n",
    "            json_object = {\n",
    "                \"problem_name\": os.path.splitext(file_name)[0],\n",
    "                \"markdown\": markdown_content\n",
    "            }\n",
    "\n",
    "            # Check if the problem already exists in the collection\n",
    "            if collection_object.find_one({\"problem_name\": json_object[\"problem_name\"]}):\n",
    "                print(f\"Skipped {file_name} as the problem already exists in the collection.\")\n",
    "                continue\n",
    "\n",
    "            # Upload the object to the MongoDB collection\n",
    "            try:\n",
    "                collection_object.insert_one(json_object)\n",
    "                print(f\"Uploaded {file_name} to the collection.\")\n",
    "            except Exception as e:\n",
    "                print(f\"Error uploading {file_name}: {e}\")"
   ]
  },
  {
   "cell_type": "code",
   "execution_count": 10,
   "metadata": {},
   "outputs": [],
   "source": [
    "# Get the current directory where the script is located\n",
    "current_directory = os.getcwd()\n",
    "\n",
    "# Define the database directory (change this to your actual directory name)\n",
    "markdown_directory = \"questions\"\n",
    "\n",
    "# Construct the full path to the database directory\n",
    "markdown_path = os.path.join(current_directory, markdown_directory)"
   ]
  },
  {
   "cell_type": "code",
   "execution_count": 11,
   "metadata": {},
   "outputs": [],
   "source": [
    "# get the collection storing the problems\n",
    "md_collection = get_collection(client = client,\n",
    "    database_name = 'qa-repo',\n",
    "    collection_name = 'markdown_repo')"
   ]
  },
  {
   "cell_type": "code",
   "execution_count": 13,
   "metadata": {},
   "outputs": [
    {
     "name": "stdout",
     "output_type": "stream",
     "text": [
      "Skipped valid_parentheses.md as the problem already exists in the collection.\n",
      "Skipped longest_turbulent_subarray.md as the problem already exists in the collection.\n",
      "Skipped two_sum.md as the problem already exists in the collection.\n",
      "Skipped koko_eating_bananas.md as the problem already exists in the collection.\n",
      "Skipped valid_palindrome.md as the problem already exists in the collection.\n",
      "Skipped contains_duplicate.md as the problem already exists in the collection.\n",
      "Skipped maximum_subarray.md as the problem already exists in the collection.\n",
      "Skipped binary_search.md as the problem already exists in the collection.\n",
      "Skipped valid_palindrome_3.md as the problem already exists in the collection.\n",
      "Skipped valid_palindrome_2.md as the problem already exists in the collection.\n"
     ]
    }
   ],
   "source": [
    "# Example usage\n",
    "collection_name = 'markdown_repo'  # Replace with your collection name\n",
    "\n",
    "read_markdown_files_and_upload(markdown_path, md_collection)"
   ]
  },
  {
   "cell_type": "code",
   "execution_count": 14,
   "metadata": {},
   "outputs": [
    {
     "name": "stdout",
     "output_type": "stream",
     "text": [
      "# Binary Search\n",
      "\n",
      "Given an array of integers nums which is sorted in ascending order, and an integer target, write a function to search target in nums. If target exists, then return its index. Otherwise, return -1.\n",
      "\n",
      "You must write an algorithm with O(log n) runtime complexity.\n",
      "\n",
      "## Example 1:\n",
      "\n",
      "    Input: nums = [-1,0,3,5,9,12], target = 9\n",
      "    Output: 4\n",
      "    Explanation: 9 exists in nums and its index is 4\n",
      "\n",
      "## Example 2:\n",
      "\n",
      "    Input: nums = [-1,0,3,5,9,12], target = 2\n",
      "    Output: -1\n",
      "    Explanation: 2 does not exist in nums so return -1\n",
      "\n",
      "## Constraints:\n",
      "\n",
      "    1 <= nums.length <= 104\n",
      "    -104 < nums[i], target < 104\n",
      "    All the integers in nums are unique.\n",
      "    nums is sorted in ascending order.\n"
     ]
    }
   ],
   "source": [
    "# print out the mardown of problem \"binary_search\"\n",
    "print(md_collection.find_one({\"problem_name\": \"binary_search\"})['markdown'])"
   ]
  }
 ],
 "metadata": {
  "interpreter": {
   "hash": "bd385fe162c5ca0c84973b7dd5c518456272446b2b64e67c2a69f949ca7a1754"
  },
  "kernelspec": {
   "display_name": "Python 3.10.12 64-bit",
   "language": "python",
   "name": "python3"
  },
  "language_info": {
   "codemirror_mode": {
    "name": "ipython",
    "version": 3
   },
   "file_extension": ".py",
   "mimetype": "text/x-python",
   "name": "python",
   "nbconvert_exporter": "python",
   "pygments_lexer": "ipython3",
   "version": "3.11.4"
  },
  "orig_nbformat": 4
 },
 "nbformat": 4,
 "nbformat_minor": 2
}
