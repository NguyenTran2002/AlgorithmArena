{
 "cells": [
  {
   "cell_type": "markdown",
   "metadata": {},
   "source": [
    "## Set Up"
   ]
  },
  {
   "cell_type": "code",
   "execution_count": 1,
   "metadata": {},
   "outputs": [],
   "source": [
    "import json\n",
    "import random"
   ]
  },
  {
   "cell_type": "code",
   "execution_count": 2,
   "metadata": {},
   "outputs": [],
   "source": [
    "import sys\n",
    "sys.path.insert(1, '..')"
   ]
  },
  {
   "cell_type": "code",
   "execution_count": 3,
   "metadata": {},
   "outputs": [],
   "source": [
    "from valid_parentheses import *"
   ]
  },
  {
   "cell_type": "markdown",
   "metadata": {},
   "source": [
    "## Generate Random Strings for Testing"
   ]
  },
  {
   "cell_type": "code",
   "execution_count": 4,
   "metadata": {},
   "outputs": [],
   "source": [
    "possible_parentheses = ['(', ')', '[', ']', '{', '}']\n",
    "\n",
    "random_strings = []\n",
    "\n",
    "random_strings.append(\"()\")\n",
    "random_strings.append(\"()[]{}\")\n",
    "random_strings.append(\"(]\")\n",
    "random_strings.append(\"([)]\")\n",
    "random_strings.append(\"{[]}\")\n",
    "random_strings.append(\"]\")\n",
    "random_strings.append(\"((\")\n",
    "random_strings.append(\"))\")\n",
    "random_strings.append(\"[\")\n",
    "\n",
    "for i in range(100 - len(random_strings)):\n",
    "\n",
    "    random_length = random.randint(0, 10000)\n",
    "    random_string = [''] * random_length\n",
    "\n",
    "    for j in range(random_length):\n",
    "        random_string[j] = random.choice(possible_parentheses)\n",
    "        \n",
    "    random_strings.append(random_string)"
   ]
  },
  {
   "cell_type": "markdown",
   "metadata": {},
   "source": [
    "## Solve Each String"
   ]
  },
  {
   "cell_type": "code",
   "execution_count": 5,
   "metadata": {},
   "outputs": [],
   "source": [
    "q_and_a_dict = {\n",
    "    \"inputs\" : [\"input_strings\"],\n",
    "    \"input_strings\" : random_strings\n",
    "}\n",
    "\n",
    "answers = [True for i in range(100)]\n",
    "\n",
    "for i in range(100):\n",
    "\n",
    "    my_solution = Solution()\n",
    "\n",
    "    answer = my_solution.valid_parentheses(random_strings[i])\n",
    "\n",
    "    answers[i] = answer\n",
    "\n",
    "q_and_a_dict[\"answers\"] = answers\n",
    "\n",
    "with open(\"../../test_cases_and_answers/valid_parentheses.json\", \"w\") as json_file:\n",
    "    json.dump(q_and_a_dict, json_file)"
   ]
  }
 ],
 "metadata": {
  "kernelspec": {
   "display_name": "Python 3",
   "language": "python",
   "name": "python3"
  },
  "language_info": {
   "codemirror_mode": {
    "name": "ipython",
    "version": 3
   },
   "file_extension": ".py",
   "mimetype": "text/x-python",
   "name": "python",
   "nbconvert_exporter": "python",
   "pygments_lexer": "ipython3",
   "version": "3.11.4"
  },
  "orig_nbformat": 4
 },
 "nbformat": 4,
 "nbformat_minor": 2
}
