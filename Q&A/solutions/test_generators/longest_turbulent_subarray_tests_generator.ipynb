{
 "cells": [
  {
   "cell_type": "markdown",
   "metadata": {},
   "source": [
    "## Set Up"
   ]
  },
  {
   "cell_type": "code",
   "execution_count": 1,
   "metadata": {},
   "outputs": [],
   "source": [
    "import json\n",
    "import random"
   ]
  },
  {
   "cell_type": "code",
   "execution_count": 2,
   "metadata": {},
   "outputs": [],
   "source": [
    "import sys\n",
    "sys.path.insert(1, '..')"
   ]
  },
  {
   "cell_type": "code",
   "execution_count": 3,
   "metadata": {},
   "outputs": [],
   "source": [
    "from longest_turbulent_subarray import *"
   ]
  },
  {
   "cell_type": "markdown",
   "metadata": {},
   "source": [
    "## Generate Random Arrays for Testing"
   ]
  },
  {
   "cell_type": "code",
   "execution_count": 4,
   "metadata": {},
   "outputs": [],
   "source": [
    "random_arrays = []\n",
    "\n",
    "for i in range(100):\n",
    "\n",
    "    random_length = random.randint(1, 10000)\n",
    "    random_array = [0] * random_length\n",
    "\n",
    "    for j in range(random_length):\n",
    "        random_array[j] = random.randint(-10000, 10000)\n",
    "\n",
    "    random_arrays.append(random_array)"
   ]
  },
  {
   "cell_type": "markdown",
   "metadata": {},
   "source": [
    "## Solve Each Array and Target Combination"
   ]
  },
  {
   "cell_type": "code",
   "execution_count": 5,
   "metadata": {},
   "outputs": [],
   "source": [
    "q_and_a_dict = {\n",
    "    \"inputs\" : [\"input_arrays\"],\n",
    "    \"input_arrays\" : random_arrays\n",
    "}\n",
    "\n",
    "answers = [999999999999999999999999 for i in range(100)]\n",
    "\n",
    "for i in range(100):\n",
    "\n",
    "    my_solution = Solution()\n",
    "\n",
    "    answer = my_solution.longest_turbulent_subarray(random_arrays[i])\n",
    "\n",
    "    answers[i] = answer\n",
    "\n",
    "q_and_a_dict[\"answers\"] = answers\n",
    "\n",
    "with open(\"../../test_cases_and_answers/longest_turbulent_subarray.json\", \"w\") as json_file:\n",
    "    json.dump(q_and_a_dict, json_file)"
   ]
  }
 ],
 "metadata": {
  "kernelspec": {
   "display_name": "Python 3",
   "language": "python",
   "name": "python3"
  },
  "language_info": {
   "codemirror_mode": {
    "name": "ipython",
    "version": 3
   },
   "file_extension": ".py",
   "mimetype": "text/x-python",
   "name": "python",
   "nbconvert_exporter": "python",
   "pygments_lexer": "ipython3",
   "version": "3.11.4"
  },
  "orig_nbformat": 4
 },
 "nbformat": 4,
 "nbformat_minor": 2
}
