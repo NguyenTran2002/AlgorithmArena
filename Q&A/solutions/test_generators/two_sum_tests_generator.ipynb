{
 "cells": [
  {
   "cell_type": "markdown",
   "metadata": {},
   "source": [
    "## Set Up"
   ]
  },
  {
   "cell_type": "code",
   "execution_count": 1,
   "metadata": {},
   "outputs": [],
   "source": [
    "import json\n",
    "import random"
   ]
  },
  {
   "cell_type": "code",
   "execution_count": 2,
   "metadata": {},
   "outputs": [],
   "source": [
    "import sys\n",
    "sys.path.insert(1, '..')"
   ]
  },
  {
   "cell_type": "code",
   "execution_count": 3,
   "metadata": {},
   "outputs": [],
   "source": [
    "from two_sum import *"
   ]
  },
  {
   "cell_type": "markdown",
   "metadata": {},
   "source": [
    "## Generate Random Arrays for Testing"
   ]
  },
  {
   "cell_type": "code",
   "execution_count": 4,
   "metadata": {},
   "outputs": [],
   "source": [
    "random_arrays = []\n",
    "random_targets = []\n",
    "\n",
    "for i in range(100):\n",
    "\n",
    "    random_number = random.randint(1, 10000)\n",
    "    random_array = [0] * random_number\n",
    "\n",
    "    existed_entries = set()\n",
    "\n",
    "    for j in range(random_number):\n",
    "\n",
    "        while True:\n",
    "\n",
    "            random_array[j] = random.randint(-10000, 10000)\n",
    "\n",
    "            if random_array[j] not in existed_entries:\n",
    "                existed_entries.add(random_array[j])\n",
    "                break\n",
    "\n",
    "    random_array.sort()\n",
    "    random_arrays.append(random_array)\n",
    "\n",
    "    random_element_1 = random.randint(0, random_number - 1)\n",
    "    while True:\n",
    "        random_element_2 = random.randint(0, random_number - 1)\n",
    "        if random_element_2 != random_element_1:\n",
    "            break\n",
    "\n",
    "    random_target = random_array[random_element_1] + random_array[random_element_2]\n",
    "    random_targets.append(random_target)"
   ]
  },
  {
   "cell_type": "markdown",
   "metadata": {},
   "source": [
    "## Solve Each Array and Target Combination"
   ]
  },
  {
   "cell_type": "code",
   "execution_count": 5,
   "metadata": {},
   "outputs": [],
   "source": [
    "q_and_a_dict = {\n",
    "    \"inputs\" : [\"input_arrays\", \"input_targets\"],\n",
    "    \"input_arrays\" : random_arrays,\n",
    "    \"input_targets\" : random_targets\n",
    "}\n",
    "\n",
    "answers = [[-1, -1] for i in range(100)]\n",
    "\n",
    "for i in range(100):\n",
    "\n",
    "    my_solution = Solution()\n",
    "\n",
    "    answer = my_solution.two_sum(random_arrays[i], random_targets[i])\n",
    "\n",
    "    answers[i] = answer\n",
    "\n",
    "q_and_a_dict[\"answers\"] = answers\n",
    "\n",
    "with open(\"../../test_cases_and_answers/two_sum.json\", \"w\") as json_file:\n",
    "    json.dump(q_and_a_dict, json_file)"
   ]
  }
 ],
 "metadata": {
  "kernelspec": {
   "display_name": "Python 3",
   "language": "python",
   "name": "python3"
  },
  "language_info": {
   "codemirror_mode": {
    "name": "ipython",
    "version": 3
   },
   "file_extension": ".py",
   "mimetype": "text/x-python",
   "name": "python",
   "nbconvert_exporter": "python",
   "pygments_lexer": "ipython3",
   "version": "3.11.4"
  },
  "orig_nbformat": 4
 },
 "nbformat": 4,
 "nbformat_minor": 2
}
