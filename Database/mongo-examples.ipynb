{
 "cells": [
  {
   "cell_type": "code",
   "execution_count": 2,
   "metadata": {},
   "outputs": [
    {
     "ename": "ModuleNotFoundError",
     "evalue": "No module named 'dotenv'",
     "output_type": "error",
     "traceback": [
      "\u001b[0;31m---------------------------------------------------------------------------\u001b[0m",
      "\u001b[0;31mModuleNotFoundError\u001b[0m                       Traceback (most recent call last)",
      "\u001b[1;32m/Users/geoffreyjing/ASD/AlgorithmArena/Database/mongo-examples.ipynb Cell 1\u001b[0m line \u001b[0;36m6\n\u001b[1;32m      <a href='vscode-notebook-cell:/Users/geoffreyjing/ASD/AlgorithmArena/Database/mongo-examples.ipynb#W0sZmlsZQ%3D%3D?line=3'>4</a>\u001b[0m \u001b[39mimport\u001b[39;00m \u001b[39mcertifi\u001b[39;00m\n\u001b[1;32m      <a href='vscode-notebook-cell:/Users/geoffreyjing/ASD/AlgorithmArena/Database/mongo-examples.ipynb#W0sZmlsZQ%3D%3D?line=4'>5</a>\u001b[0m \u001b[39mimport\u001b[39;00m \u001b[39mjson\u001b[39;00m\n\u001b[0;32m----> <a href='vscode-notebook-cell:/Users/geoffreyjing/ASD/AlgorithmArena/Database/mongo-examples.ipynb#W0sZmlsZQ%3D%3D?line=5'>6</a>\u001b[0m \u001b[39mfrom\u001b[39;00m \u001b[39mdotenv\u001b[39;00m \u001b[39mimport\u001b[39;00m load_dotenv\n",
      "\u001b[0;31mModuleNotFoundError\u001b[0m: No module named 'dotenv'"
     ]
    }
   ],
   "source": [
    "from pymongo.mongo_client import MongoClient\n",
    "from pymongo.server_api import ServerApi\n",
    "import os\n",
    "import certifi\n",
    "import json\n",
    "from dotenv import load_dotenv"
   ]
  },
  {
   "cell_type": "code",
   "execution_count": 1,
   "metadata": {},
   "outputs": [
    {
     "ename": "NameError",
     "evalue": "name 'load_dotenv' is not defined",
     "output_type": "error",
     "traceback": [
      "\u001b[0;31m---------------------------------------------------------------------------\u001b[0m",
      "\u001b[0;31mNameError\u001b[0m                                 Traceback (most recent call last)",
      "\u001b[1;32m/Users/geoffreyjing/ASD/AlgorithmArena/Database/mongo-examples.ipynb Cell 2\u001b[0m line \u001b[0;36m1\n\u001b[0;32m----> <a href='vscode-notebook-cell:/Users/geoffreyjing/ASD/AlgorithmArena/Database/mongo-examples.ipynb#W1sZmlsZQ%3D%3D?line=0'>1</a>\u001b[0m load_dotenv()\n\u001b[1;32m      <a href='vscode-notebook-cell:/Users/geoffreyjing/ASD/AlgorithmArena/Database/mongo-examples.ipynb#W1sZmlsZQ%3D%3D?line=1'>2</a>\u001b[0m username\u001b[39m=\u001b[39m os\u001b[39m.\u001b[39mgetenv(\u001b[39m'\u001b[39m\u001b[39musername\u001b[39m\u001b[39m'\u001b[39m)\n\u001b[1;32m      <a href='vscode-notebook-cell:/Users/geoffreyjing/ASD/AlgorithmArena/Database/mongo-examples.ipynb#W1sZmlsZQ%3D%3D?line=2'>3</a>\u001b[0m password \u001b[39m=\u001b[39m os\u001b[39m.\u001b[39mgetenv(\u001b[39m'\u001b[39m\u001b[39mpassword\u001b[39m\u001b[39m'\u001b[39m)\n",
      "\u001b[0;31mNameError\u001b[0m: name 'load_dotenv' is not defined"
     ]
    }
   ],
   "source": [
    "load_dotenv()\n",
    "username= os.getenv('username')\n",
    "password = os.getenv('password')\n",
    "uri = \"mongodb+srv://\" + username + \":\" + password + \"@main.3vgxubm.mongodb.net/?retryWrites=true&w=majority\""
   ]
  },
  {
   "cell_type": "code",
   "execution_count": 12,
   "metadata": {},
   "outputs": [
    {
     "name": "stdout",
     "output_type": "stream",
     "text": [
      "Pinged your deployment. You successfully connected to MongoDB!\n"
     ]
    }
   ],
   "source": [
    "\n",
    "# Set the Stable API version when creating a new client\n",
    "client = MongoClient(uri, server_api=ServerApi('1'), tlsCAFile=certifi.where())\n",
    "\n",
    "# Send a ping to confirm a successful connection\n",
    "try:\n",
    "    client.admin.command('ping')\n",
    "    print(\"Pinged your deployment. You successfully connected to MongoDB!\")\n",
    "except Exception as e:\n",
    "    print(e)"
   ]
  },
  {
   "cell_type": "code",
   "execution_count": 13,
   "metadata": {},
   "outputs": [
    {
     "name": "stdout",
     "output_type": "stream",
     "text": [
      "qa-repo\n",
      "admin\n",
      "local\n"
     ]
    }
   ],
   "source": [
    "# listing the databases\n",
    "database_names = client.list_database_names()\n",
    "for db_name in database_names:\n",
    "    print(db_name)"
   ]
  },
  {
   "cell_type": "code",
   "execution_count": 14,
   "metadata": {},
   "outputs": [
    {
     "name": "stdout",
     "output_type": "stream",
     "text": [
      "qa\n"
     ]
    }
   ],
   "source": [
    "db = client['qa-repo']\n",
    "\n",
    "collections = db.list_collection_names()\n",
    "\n",
    "# Print the list of collections\n",
    "for collection_name in collections:\n",
    "    print(collection_name)\n",
    "\n",
    "collection = db['qa']\n"
   ]
  },
  {
   "cell_type": "code",
   "execution_count": null,
   "metadata": {},
   "outputs": [],
   "source": [
    "try:\n",
    "    # Example of finding a document by a specific key-value pair\n",
    "    result = collection.find_one({\"problem_name\": \"binary_search\"})\n",
    "\n",
    "    # Printing the retrieved object\n",
    "    if result:\n",
    "        print(f\"Retrieved Object: {result}\")\n",
    "    else:\n",
    "        print(\"No matching object found.\")\n",
    "\n",
    "except Exception as e:\n",
    "    print(f\"An error occurred: {e}\")\n",
    "\n",
    "type(result)"
   ]
  },
  {
   "cell_type": "code",
   "execution_count": null,
   "metadata": {},
   "outputs": [],
   "source": [
    "# binary search functin\n",
    "def binary_search(in_array, target):\n",
    "\n",
    "    # Initialize left and right pointers\n",
    "    left = 0\n",
    "    right = len(in_array) - 1\n",
    "\n",
    "    # Binary search\n",
    "    while left <= right:\n",
    "        mid = (left + right) // 2\n",
    "        if in_array[mid] == target:\n",
    "            return mid\n",
    "        elif in_array[mid] < target:\n",
    "            left = mid + 1\n",
    "        else:\n",
    "            right = mid - 1\n",
    "\n",
    "    # Return -1 if the element is not found\n",
    "    return -1"
   ]
  },
  {
   "cell_type": "markdown",
   "metadata": {},
   "source": []
  },
  {
   "cell_type": "code",
   "execution_count": null,
   "metadata": {},
   "outputs": [],
   "source": [
    "# Get the current directory where the script is located\n",
    "current_directory = os.getcwd()\n",
    "\n",
    "# Define the database directory (change this to your actual directory name)\n",
    "database_directory = \"database\"\n",
    "\n",
    "# Construct the full path to the database directory\n",
    "database_path = os.path.join(current_directory, database_directory)\n",
    "\n",
    "# Check if the directory exists\n",
    "if os.path.exists(database_path) and os.path.isdir(database_path):\n",
    "    # List all files in the directory\n",
    "    files = os.listdir(database_path)\n",
    "    \n",
    "    # Print the list of files\n",
    "    for file_name in files:\n",
    "\n",
    "        file_path = os.path.join(database_path, file_name)\n",
    "        print(file_name)\n",
    "        if os.path.isfile(file_path):\n",
    "                try:\n",
    "                    with open(file_path, \"r\") as file:\n",
    "                        data = json.load(file)\n",
    "                        data['problem_name'] = file_name.replace('.json', '')\n",
    "                        inserted_object = collection.insert_one(data)\n",
    "                        print(f\"Uploaded file: {file_path}, Object ID: {inserted_object.inserted_id}\")\n",
    "                except Exception as e:\n",
    "                    print(f\"Error uploading file {file_path}: {str(e)}\")\n",
    "\n",
    "else:\n",
    "    print(f\"Database directory '{database_path}' does not exist.\")\n"
   ]
  }
 ],
 "metadata": {
  "interpreter": {
   "hash": "bd385fe162c5ca0c84973b7dd5c518456272446b2b64e67c2a69f949ca7a1754"
  },
  "kernelspec": {
   "display_name": "Python 3.10.12 64-bit",
   "language": "python",
   "name": "python3"
  },
  "language_info": {
   "codemirror_mode": {
    "name": "ipython",
    "version": 3
   },
   "file_extension": ".py",
   "mimetype": "text/x-python",
   "name": "python",
   "nbconvert_exporter": "python",
   "pygments_lexer": "ipython3",
   "version": "3.10.2"
  },
  "orig_nbformat": 4
 },
 "nbformat": 4,
 "nbformat_minor": 2
}
