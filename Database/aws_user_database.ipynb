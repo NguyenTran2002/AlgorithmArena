{
 "cells": [
  {
   "cell_type": "code",
   "execution_count": 51,
   "metadata": {},
   "outputs": [],
   "source": [
    "from aws_sql_helper import *"
   ]
  },
  {
   "cell_type": "code",
   "execution_count": 52,
   "metadata": {},
   "outputs": [],
   "source": [
    "# connect to the database\n",
    "aws_host, aws_port, aws_user, aws_password, aws_database = load_aws_connection_properties()\n",
    "connection, cursor = connect_to_aws(aws_host, aws_port, aws_user, aws_password, aws_database)"
   ]
  },
  {
   "cell_type": "code",
   "execution_count": null,
   "metadata": {},
   "outputs": [],
   "source": [
    "# # creating a table\n",
    "# table_name = 'user_logins'\n",
    "# column_names = ['username', 'password']\n",
    "# column_data_types = ['TEXT', 'TEXT']\n",
    "# create_table(connection, cursor, table_name, column_names, column_data_types)"
   ]
  },
  {
   "cell_type": "code",
   "execution_count": 4,
   "metadata": {},
   "outputs": [
    {
     "data": {
      "text/plain": [
       "['username', 'password']"
      ]
     },
     "execution_count": 4,
     "metadata": {},
     "output_type": "execute_result"
    }
   ],
   "source": [
    "get_column_names(cursor, 'user_logins')"
   ]
  },
  {
   "cell_type": "code",
   "execution_count": null,
   "metadata": {},
   "outputs": [],
   "source": [
    "# delete_table('example_table')"
   ]
  },
  {
   "cell_type": "code",
   "execution_count": null,
   "metadata": {},
   "outputs": [],
   "source": [
    "# add_entry_to_table(\n",
    "#     connection,\n",
    "#     cursor,\n",
    "#     'user_logins',\n",
    "#     ['nguyen_tran', '123456']\n",
    "# )"
   ]
  },
  {
   "cell_type": "code",
   "execution_count": 5,
   "metadata": {},
   "outputs": [
    {
     "name": "stdout",
     "output_type": "stream",
     "text": [
      "('nguyen_tran', '123456')\n"
     ]
    },
    {
     "data": {
      "text/plain": [
       "(('nguyen_tran', '123456'),)"
      ]
     },
     "execution_count": 5,
     "metadata": {},
     "output_type": "execute_result"
    }
   ],
   "source": [
    "retrieve_all_rows(cursor, 'user_logins')"
   ]
  },
  {
   "cell_type": "code",
   "execution_count": 53,
   "metadata": {},
   "outputs": [],
   "source": [
    "easy = filter_by(\n",
    "    cursor=cursor,\n",
    "    table_name=\"problems\",\n",
    "    column_name=\"difficulty\",\n",
    "    filter_value=\"easy\",\n",
    "    filter_value_type=\"str\"\n",
    ")\n",
    "\n",
    "medium = filter_by(\n",
    "    cursor=cursor,\n",
    "    table_name=\"problems\",\n",
    "    column_name=\"difficulty\",\n",
    "    filter_value=\"medium\",\n",
    "    filter_value_type=\"str\"\n",
    ")\n",
    "\n",
    "hard = filter_by(\n",
    "    cursor=cursor,\n",
    "    table_name=\"problems\",\n",
    "    column_name=\"difficulty\",\n",
    "    filter_value=\"hard\",\n",
    "    filter_value_type=\"str\"\n",
    ")"
   ]
  },
  {
   "cell_type": "code",
   "execution_count": 54,
   "metadata": {},
   "outputs": [],
   "source": [
    "easy = list(easy)\n",
    "medium = list(medium)\n",
    "hard = list(hard)"
   ]
  },
  {
   "cell_type": "code",
   "execution_count": 55,
   "metadata": {},
   "outputs": [
    {
     "name": "stdout",
     "output_type": "stream",
     "text": [
      "[('binary_search', 'easy'), ('contains_duplicate', 'easy'), ('two_sum', 'easy'), ('valid_palindrome_2', 'easy'), ('valid_palindrome', 'easy'), ('valid_parentheses', 'easy')]\n",
      "--------------\n",
      "[('koko_eating_bananas', 'medium'), ('longest_turbulent_subarray', 'medium'), ('maximum_subarray', 'medium')]\n",
      "--------------\n",
      "[('valid_palindrome_3', 'hard')]\n"
     ]
    }
   ],
   "source": [
    "print(easy)\n",
    "print(\"--------------\")\n",
    "print(medium)\n",
    "print(\"--------------\")\n",
    "print(hard)"
   ]
  }
 ],
 "metadata": {
  "kernelspec": {
   "display_name": "Python 3",
   "language": "python",
   "name": "python3"
  },
  "language_info": {
   "codemirror_mode": {
    "name": "ipython",
    "version": 3
   },
   "file_extension": ".py",
   "mimetype": "text/x-python",
   "name": "python",
   "nbconvert_exporter": "python",
   "pygments_lexer": "ipython3",
   "version": "3.11.4"
  }
 },
 "nbformat": 4,
 "nbformat_minor": 2
}
