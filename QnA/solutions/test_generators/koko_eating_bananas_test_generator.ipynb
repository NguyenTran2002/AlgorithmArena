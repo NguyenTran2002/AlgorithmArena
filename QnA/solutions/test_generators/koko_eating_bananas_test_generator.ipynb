{
 "cells": [
  {
   "cell_type": "markdown",
   "metadata": {},
   "source": [
    "## Import Libraries"
   ]
  },
  {
   "cell_type": "code",
   "execution_count": 1,
   "metadata": {},
   "outputs": [],
   "source": [
    "import json\n",
    "import random"
   ]
  },
  {
   "cell_type": "code",
   "execution_count": 2,
   "metadata": {},
   "outputs": [],
   "source": [
    "from koko_eating_bananas import *"
   ]
  },
  {
   "cell_type": "markdown",
   "metadata": {},
   "source": [
    "## Generate Random Arrays for Testing"
   ]
  },
  {
   "cell_type": "code",
   "execution_count": 3,
   "metadata": {},
   "outputs": [],
   "source": [
    "random_arrays = []\n",
    "random_hours = []\n",
    "\n",
    "for i in range(100):\n",
    "\n",
    "    random_length = random.randint(1, 10000)\n",
    "    random_array = [0] * random_length\n",
    "\n",
    "    hour = random.randint(random_length, 1000000000)\n",
    "    random_hours.append(hour)\n",
    "\n",
    "    for j in range(random_length):\n",
    "\n",
    "        random_array[j] = random.randint(1, 10000)\n",
    "\n",
    "    random_arrays.append(random_array)"
   ]
  },
  {
   "cell_type": "markdown",
   "metadata": {},
   "source": [
    "## Solve Each Array and Hour Combination"
   ]
  },
  {
   "cell_type": "code",
   "execution_count": 5,
   "metadata": {},
   "outputs": [],
   "source": [
    "q_and_a_dict = {\n",
    "    \"input_arrays\" : random_arrays,\n",
    "    \"input hours\" : random_hours\n",
    "}\n",
    "\n",
    "answers = [-1] * 100\n",
    "\n",
    "for i in range(100):\n",
    "\n",
    "    my_solution = Solution()\n",
    "\n",
    "    answer = my_solution.minEatingSpeed(random_arrays[i], random_hours[i])\n",
    "\n",
    "    answers[i] = answer\n",
    "\n",
    "q_and_a_dict[\"answers\"] = answers\n",
    "\n",
    "with open(\"koko_eating_bananas.json\", \"w\") as json_file:\n",
    "    json.dump(q_and_a_dict, json_file)"
   ]
  }
 ],
 "metadata": {
  "kernelspec": {
   "display_name": "Python 3",
   "language": "python",
   "name": "python3"
  },
  "language_info": {
   "codemirror_mode": {
    "name": "ipython",
    "version": 3
   },
   "file_extension": ".py",
   "mimetype": "text/x-python",
   "name": "python",
   "nbconvert_exporter": "python",
   "pygments_lexer": "ipython3",
   "version": "3.11.4"
  },
  "orig_nbformat": 4
 },
 "nbformat": 4,
 "nbformat_minor": 2
}
