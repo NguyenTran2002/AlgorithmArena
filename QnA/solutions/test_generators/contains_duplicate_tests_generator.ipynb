{
 "cells": [
  {
   "cell_type": "markdown",
   "metadata": {},
   "source": [
    "## Import Libraries"
   ]
  },
  {
   "cell_type": "code",
   "execution_count": 1,
   "metadata": {},
   "outputs": [],
   "source": [
    "import json\n",
    "import random"
   ]
  },
  {
   "cell_type": "code",
   "execution_count": 2,
   "metadata": {},
   "outputs": [],
   "source": [
    "from contains_duplicate import *"
   ]
  },
  {
   "cell_type": "markdown",
   "metadata": {},
   "source": [
    "## Generate Random Arrays for Testing"
   ]
  },
  {
   "cell_type": "markdown",
   "metadata": {},
   "source": [
    "### Generate Random Arrays"
   ]
  },
  {
   "cell_type": "code",
   "execution_count": 3,
   "metadata": {},
   "outputs": [],
   "source": [
    "random_arrays = []\n",
    "\n",
    "for i in range(100):\n",
    "\n",
    "    random_number = random.randint(1, 100000)\n",
    "    random_array = [0] * random_number\n",
    "\n",
    "    existed_entries = set()\n",
    "\n",
    "    for j in range(random_number):\n",
    "\n",
    "        while True:\n",
    "\n",
    "            random_array[j] = random.randint(-1000000000, 1000000000)\n",
    "\n",
    "            if random_array[j] not in existed_entries:\n",
    "                existed_entries.add(random_array[j])\n",
    "                break\n",
    "\n",
    "    random_arrays.append(random_array)"
   ]
  },
  {
   "cell_type": "markdown",
   "metadata": {},
   "source": [
    "### Artificially Force a Duplicate"
   ]
  },
  {
   "cell_type": "code",
   "execution_count": 4,
   "metadata": {},
   "outputs": [],
   "source": [
    "for i in range(100):\n",
    "    \n",
    "    random_number = random.randint(0, 1)\n",
    "\n",
    "    if random_number == 1:\n",
    "\n",
    "        current_array = random_arrays[i]\n",
    "\n",
    "        random_index_1 = random.randint(0, len(current_array) - 1)\n",
    "\n",
    "        while True:\n",
    "            random_index_2 = random.randint(0, len(current_array) - 1)\n",
    "            if random_index_1 != random_index_2:\n",
    "                break\n",
    "\n",
    "        current_array[random_index_1] = current_array[random_index_2]"
   ]
  },
  {
   "cell_type": "markdown",
   "metadata": {},
   "source": [
    "## Solve Each Array"
   ]
  },
  {
   "cell_type": "code",
   "execution_count": 5,
   "metadata": {},
   "outputs": [],
   "source": [
    "q_and_a_dict = {\n",
    "    \"input_arrays\" : random_arrays,\n",
    "}\n",
    "\n",
    "answers = [False] * 100\n",
    "\n",
    "for i in range(100):\n",
    "\n",
    "    my_solution = Solution()\n",
    "\n",
    "    answer = my_solution.containsDuplicate(random_arrays[i])\n",
    "\n",
    "    answers[i] = answer\n",
    "\n",
    "q_and_a_dict[\"answers\"] = answers\n",
    "\n",
    "with open(\"contains_duplicate.json\", \"w\") as json_file:\n",
    "    json.dump(q_and_a_dict, json_file)"
   ]
  }
 ],
 "metadata": {
  "kernelspec": {
   "display_name": "Python 3",
   "language": "python",
   "name": "python3"
  },
  "language_info": {
   "codemirror_mode": {
    "name": "ipython",
    "version": 3
   },
   "file_extension": ".py",
   "mimetype": "text/x-python",
   "name": "python",
   "nbconvert_exporter": "python",
   "pygments_lexer": "ipython3",
   "version": "3.11.4"
  },
  "orig_nbformat": 4
 },
 "nbformat": 4,
 "nbformat_minor": 2
}
